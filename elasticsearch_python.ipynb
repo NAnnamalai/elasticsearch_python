{
 "cells": [
  {
   "cell_type": "code",
   "execution_count": 16,
   "metadata": {
    "collapsed": false
   },
   "outputs": [],
   "source": [
    "# Before going to the code section, make sure that the elastic search is running in your machine.\n",
    "# And there are two shell scripts:\n",
    "# 1. \"return_all.sh\" which returns all the data for the index\n",
    "# 2. \"del_indices.sh\" which removes all the data \n",
    "\n",
    "# We will be using \"del_indices.sh\" manually for clearning out all the indexes."
   ]
  },
  {
   "cell_type": "code",
   "execution_count": 17,
   "metadata": {
    "collapsed": true
   },
   "outputs": [],
   "source": [
    "import requests\n",
    "import json\n",
    "import pandas as pd"
   ]
  },
  {
   "cell_type": "code",
   "execution_count": 18,
   "metadata": {
    "collapsed": true
   },
   "outputs": [],
   "source": [
    "# Using the same data which I scraped\n",
    "df = pd.read_csv(\"imdb_thriller_movies_list.csv\", encoding=\"utf-8\")\n",
    "\n",
    "# clean the year column\n",
    "def parse_year(v):\n",
    "    v = v.replace(\"(\",  \"\")\n",
    "    v = v.replace(\")\", \"\")\n",
    "    return v\n",
    "\n",
    "df['movie_year'] = df['movie_year'].apply(lambda v: parse_year(v))\n",
    "df['movie_year'] = df['movie_year'].astype(int)"
   ]
  },
  {
   "cell_type": "code",
   "execution_count": 19,
   "metadata": {
    "collapsed": false
   },
   "outputs": [
    {
     "data": {
      "text/plain": [
       "Index([u'image_url', u'movie_cast', u'movie_description', u'movie_director',\n",
       "       u'movie_hero', u'movie_rating', u'movie_title', u'movie_votes',\n",
       "       u'movie_year', u'rank'],\n",
       "      dtype='object')"
      ]
     },
     "execution_count": 19,
     "metadata": {},
     "output_type": "execute_result"
    }
   ],
   "source": [
    "df.columns"
   ]
  },
  {
   "cell_type": "code",
   "execution_count": 20,
   "metadata": {
    "collapsed": true
   },
   "outputs": [],
   "source": [
    "# Now to make things simple, lets take a copy of the data with only the required columns in it\n",
    "df_subset = df[['movie_title', 'movie_year', 'movie_description', 'movie_hero', 'movie_director', 'movie_votes']]"
   ]
  },
  {
   "cell_type": "code",
   "execution_count": 21,
   "metadata": {
    "collapsed": true
   },
   "outputs": [],
   "source": [
    "# Lets do some insertion\n",
    "# Function which insert docs into elasticsearch\n",
    "def create_doc(uri, doc_data={}):\n",
    "    \"\"\"Create new document.\"\"\"\n",
    "    query = json.dumps(doc_data)\n",
    "    response = requests.post(uri, data=query)"
   ]
  },
  {
   "cell_type": "code",
   "execution_count": 22,
   "metadata": {
    "collapsed": true
   },
   "outputs": [],
   "source": [
    "# uri_create points to my localhost where movies is the index and explore is the type\n",
    "uri_create = 'http://localhost:9200/movies/explore/'\n",
    "for idx, row in df_subset.iterrows():\n",
    "    create_doc(uri_create, df_subset.ix[idx].to_dict())"
   ]
  },
  {
   "cell_type": "code",
   "execution_count": 23,
   "metadata": {
    "collapsed": true
   },
   "outputs": [],
   "source": [
    "# create a function which helps to loop through json and prints the movie title alone\n",
    "def format_results(results):\n",
    "    data = [doc for doc in results['hits']['hits']]\n",
    "    for doc in data:\n",
    "        print doc['_source']['movie_title']"
   ]
  },
  {
   "cell_type": "code",
   "execution_count": 24,
   "metadata": {
    "collapsed": false
   },
   "outputs": [
    {
     "name": "stdout",
     "output_type": "stream",
     "text": [
      "The Dark Knight Rises\n",
      "Chinatown\n",
      "Mystic River\n",
      "The Sixth Sense\n",
      "Apocalypto\n",
      "V for Vendetta\n",
      "127 Hours\n",
      "North by Northwest\n",
      "Gravity\n",
      "Munich\n",
      "The Devil's Advocate\n",
      "Captain Phillips\n",
      "Elephant\n",
      "Saw\n",
      "Jackie Brown\n",
      "Blood Diamond\n",
      "Blue Velvet\n",
      "Panic Room\n",
      "Shutter Island\n",
      "The Fugitive\n",
      "Ghost Dog: The Way of the Samurai\n",
      "Oldboy\n",
      "Run Lola Run\n",
      "Twelve Monkeys\n",
      "Mad Max: Fury Road\n",
      "The Girl with the Dragon Tattoo\n",
      "Casino Royale\n",
      "The Untouchables\n",
      "Vertigo\n",
      "The Lives of Others\n",
      "Die Hard\n",
      "The Unknown Woman\n",
      "Blade Runner\n",
      "Death Proof\n",
      "Heat\n",
      "Mulholland Dr.\n",
      "Se7en\n",
      "Sin City\n",
      "The Others\n",
      "Collateral\n",
      "Jaws\n",
      "The Revenant\n",
      "Prisoners\n",
      "Fargo\n",
      "Lost Highway\n",
      "JFK\n",
      "The Secret in Their Eyes\n",
      "Ronin\n",
      "Sherlock Holmes\n",
      "Desperado\n",
      "A History of Violence\n",
      "Nightcrawler\n",
      "Inception\n",
      "The Departed\n",
      "Léon: The Professional\n",
      "Kill Bill: Vol. 1\n",
      "No Country for Old Men\n",
      "Crash\n",
      "Minority Report\n",
      "The Prestige\n",
      "The Usual Suspects\n",
      "The Game\n",
      "The Ghost Writer\n",
      "Children of Men\n",
      "Sweeney Todd: The Demon Barber of Fleet Street\n",
      "Taken\n",
      "Mr. Brooks\n",
      "The Dark Knight\n",
      "The Bourne Ultimatum\n",
      "Black Swan\n",
      "The Silence of the Lambs\n",
      "Kill Bill: Vol. 2\n",
      "Insomnia\n",
      "Lucky Number Slevin\n",
      "The Hateful Eight\n",
      "Eyes Wide Shut\n",
      "Amores Perros\n",
      "Memento\n",
      "Rear Window\n",
      "Psycho\n",
      "Gone Girl\n",
      "Arrival\n",
      "Straw Dogs\n",
      "The Imitation Game\n",
      "Mission: Impossible\n",
      "Face/Off\n",
      "Road to Perdition\n",
      "Match Point\n",
      "The Next Three Days\n"
     ]
    }
   ],
   "source": [
    "# print all the movies \n",
    "all_movies = requests.get(\"http://localhost:9200/movies/_search/?size=1000&pretty=1>\")\n",
    "all_movies = json.loads(all_movies.text)\n",
    "format_results(all_movies)"
   ]
  },
  {
   "cell_type": "code",
   "execution_count": 25,
   "metadata": {
    "collapsed": true
   },
   "outputs": [],
   "source": [
    "# Lets do some searching\n",
    "# create a simple search function where key: value combination will be the query\n",
    "def search(uri, col_name, term):\n",
    "    \"\"\"Simple Elasticsearch Query\"\"\"\n",
    "    query = json.dumps({\n",
    "        \"query\": {\n",
    "            \"match\": {\n",
    "                col_name: term\n",
    "            }\n",
    "        }\n",
    "    })\n",
    "    response = requests.get(uri, data=query)\n",
    "    results = json.loads(response.text)\n",
    "    return results"
   ]
  },
  {
   "cell_type": "code",
   "execution_count": 26,
   "metadata": {
    "collapsed": false
   },
   "outputs": [
    {
     "name": "stdout",
     "output_type": "stream",
     "text": [
      "JFK\n",
      "Cape Fear\n",
      "The Silence of the Lambs\n"
     ]
    }
   ],
   "source": [
    "# \"_search\" is key word\n",
    "uri_search = 'http://localhost:9200/movies/explore/_search'\n",
    "\n",
    "# get all movies released in year 1991\n",
    "nineties_movies = search(uri_search, \"movie_year\", 1991)\n",
    "format_results(nineties_movies)"
   ]
  },
  {
   "cell_type": "code",
   "execution_count": 27,
   "metadata": {
    "collapsed": false
   },
   "outputs": [
    {
     "name": "stdout",
     "output_type": "stream",
     "text": [
      "The Dark Knight Rises\n",
      "The Dark Knight\n",
      "Insomnia\n",
      "Memento\n",
      "Inception\n",
      "The Prestige\n"
     ]
    }
   ],
   "source": [
    "# get all movies of Christoper Nolan\n",
    "director_movies = search(uri_search, \"movie_director\", \"Christoper Nolan\")\n",
    "format_results(director_movies)"
   ]
  },
  {
   "cell_type": "code",
   "execution_count": 28,
   "metadata": {
    "collapsed": false
   },
   "outputs": [
    {
     "name": "stdout",
     "output_type": "stream",
     "text": [
      "The Revenant\n",
      "Blood Diamond\n",
      "Shutter Island\n",
      "Inception\n",
      "The Departed\n"
     ]
    }
   ],
   "source": [
    "# get all movies of Leonardo DiCaprio\n",
    "actor_movies = search(uri_search, \"movie_hero\", \"Leonardo DiCaprio\")\n",
    "format_results(actor_movies)"
   ]
  },
  {
   "cell_type": "code",
   "execution_count": 29,
   "metadata": {
    "collapsed": true
   },
   "outputs": [],
   "source": [
    "# so we created three function one for creating indexes, one for searching and one another for printing the results, make use of del_indices.sh\n",
    "# which will help to delete all the contents and start fresh\n",
    "\n",
    "# todo\n",
    "# aggregate queries"
   ]
  },
  {
   "cell_type": "code",
   "execution_count": null,
   "metadata": {
    "collapsed": true
   },
   "outputs": [],
   "source": []
  }
 ],
 "metadata": {
  "kernelspec": {
   "display_name": "Python 2",
   "language": "python",
   "name": "python2"
  },
  "language_info": {
   "codemirror_mode": {
    "name": "ipython",
    "version": 2
   },
   "file_extension": ".py",
   "mimetype": "text/x-python",
   "name": "python",
   "nbconvert_exporter": "python",
   "pygments_lexer": "ipython2",
   "version": "2.7.11"
  }
 },
 "nbformat": 4,
 "nbformat_minor": 0
}
